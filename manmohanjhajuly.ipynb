{
 "cells": [
  {
   "cell_type": "markdown",
   "id": "d1b2d8dd-1313-48d0-818f-842e9351e2b0",
   "metadata": {},
   "source": [
    "##1. What is the primary goal of Object-Oriented Programming (OOP)?\n",
    "Ans - \n",
    "The primary goal of Object-Oriented Programming (OOP) is to provide a programming paradigm that allows for the modular organization and structuring of code by representing real-world objects as software objects. OOP aims to improve software development by emphasizing concepts such as encapsulation, inheritance, and polymorphism.\n",
    "\n",
    "Encapsulation: OOP encourages encapsulating data (attributes or properties) and the methods (functions) that operate on that data within a single object. \n",
    "Inheritance: Inheritance allows objects to inherit characteristics and behaviors from parent objects or classes.\n",
    "Polymorphism: Polymorphism refers to the ability of objects to respond differently to the same message or method call. \n"
   ]
  },
  {
   "cell_type": "markdown",
   "id": "d3d32ef8-fa62-4681-ad4d-c344977f57d2",
   "metadata": {},
   "source": [
    "##2. What is an object in Python?\n",
    "Ans - In Python, an object is a fundamental concept of object-oriented programming. An object is an instance of a class, which is a blueprint or template that defines the attributes (data) and behaviors (methods) that the objects of that class will possess."
   ]
  },
  {
   "cell_type": "markdown",
   "id": "3ce43b91-f213-4ab5-bb39-36601253d2f8",
   "metadata": {},
   "source": [
    "##3. What is a class in Python?\n",
    "Ans - In Python, a class is a blueprint or template for creating objects. It defines the attributes (data) and behaviors (methods) that the objects of that class will possess. The class provides a structure for creating multiple instances of objects with similar characteristics.\n",
    "A class is defined using the class keyword, followed by the class name and a colon. "
   ]
  },
  {
   "cell_type": "markdown",
   "id": "6f72565f-1c7d-44c9-bc35-31b602d5b3ce",
   "metadata": {},
   "source": [
    "##4. What are attributes and methods in a class?\n",
    "ANS - Attributes: Variables that store data or state for objects created from a class.\n",
    "Methods: Functions that define the behavior or actions that objects can perform."
   ]
  },
  {
   "cell_type": "markdown",
   "id": "5eb22f18-834c-4bc2-9664-4b335027bb0b",
   "metadata": {},
   "source": [
    "##5. What is the difference between class variables and instance variables in Python?\n",
    "ANS - Class variables: Shared among all instances of a class, accessed through the class or instances, and modifications affect all instances.\n",
    "Instance variables: Specific to each instance of a class, accessed through instances using the self keyword, and changes only affect the individual instance."
   ]
  },
  {
   "cell_type": "markdown",
   "id": "fa5a5344-c6d7-4b2f-bdc5-b23ce9e7a946",
   "metadata": {},
   "source": [
    "##6. What is the purpose of the self parameter in Python class methods?\n",
    "ANS - The self parameter in Python class methods is used to refer to the instance of the class itself. It allows methods to access and modify the object's attributes and perform operations specific to that instance."
   ]
  },
  {
   "cell_type": "markdown",
   "id": "ccdcf04d-fbc8-4733-8538-f1b2bec57582",
   "metadata": {},
   "source": [
    "##7. For a library management system, you have to design the \"Book\" class with OOP\n",
    "principles in mind. The “Book” class will have following attributes:\n",
    "a. title: Represents the title of the book.\n",
    "b. author: Represents the author(s) of the book.\n",
    "c. isbn: Represents the ISBN (International Standard Book Number) of the book.\n",
    "d. publication_year: Represents the year of publication of the book.\n",
    "e. available_copies: Represents the number of copies available for checkout.\n",
    "The class will also include the following methods:\n",
    "a. check_out(self): Decrements the available copies by one if there are copies\n",
    "available for checkout.\n",
    "b. return_book(self): Increments the available copies by one when a book is\n",
    "returned.\n",
    "c. display_book_info(self): Displays the information about the book, including its\n",
    "attributes and the number of available copies."
   ]
  },
  {
   "cell_type": "code",
   "execution_count": 12,
   "id": "212afbab-bdd3-4670-9fc8-fe1cd9e2412a",
   "metadata": {},
   "outputs": [],
   "source": [
    "class Book:\n",
    "    def __init__(self, title, author, isbn, publication_year, available_copies):\n",
    "        self.title = title\n",
    "        self.author = author\n",
    "        self.isbn = isbn\n",
    "        self.publication_year = publication_year\n",
    "        self.available_copies = available_copies\n",
    "\n",
    "    def check_out(self):\n",
    "        if self.available_copies > 0:\n",
    "            self.available_copies -= 1\n",
    "            print(\"Book checked out successfully.\")\n",
    "        else:\n",
    "            print(\"Sorry, no copies available for checkout.\")\n",
    "\n",
    "    def return_book(self):\n",
    "        self.available_copies += 1\n",
    "        print(\"Book returned successfully.\")\n",
    "\n",
    "    def display_book_info(self):\n",
    "        print(\"Title:\", self.title)\n",
    "        print(\"Author(s):\", self.author)\n",
    "        print(\"ISBN:\", self.isbn)\n",
    "        print(\"Publication Year:\", self.publication_year)\n",
    "        print(\"Available Copies:\", self.available_copies)"
   ]
  },
  {
   "cell_type": "code",
   "execution_count": 17,
   "id": "9f7f822c-d5d0-432c-810f-0a7fbe56be5f",
   "metadata": {},
   "outputs": [],
   "source": [
    "\n",
    "book1 = Book(\"Automate the Boring Stuff with Python Programming\", \"Al Sweigart\", \"978-1593275990\", 2015, 10)\n"
   ]
  },
  {
   "cell_type": "code",
   "execution_count": 14,
   "id": "466feed7-2b67-4c57-b90d-a17a9d8052e2",
   "metadata": {},
   "outputs": [
    {
     "name": "stdout",
     "output_type": "stream",
     "text": [
      "Title: Automate the Boring Stuff with Python Programming\n",
      "Author(s): Al Sweigart\n",
      "ISBN: 978-1593275990\n",
      "Publication Year: 2015\n",
      "Available Copies: 10\n"
     ]
    }
   ],
   "source": [
    "book1.display_book_info()"
   ]
  },
  {
   "cell_type": "code",
   "execution_count": 15,
   "id": "e0d321e5-af19-443b-bda9-aaa45b99a259",
   "metadata": {},
   "outputs": [
    {
     "name": "stdout",
     "output_type": "stream",
     "text": [
      "Book checked out successfully.\n"
     ]
    }
   ],
   "source": [
    "book1.check_out()"
   ]
  },
  {
   "cell_type": "code",
   "execution_count": 16,
   "id": "d702bdcc-689d-41f2-b242-a1b56c90be6c",
   "metadata": {},
   "outputs": [
    {
     "name": "stdout",
     "output_type": "stream",
     "text": [
      "Book returned successfully.\n"
     ]
    }
   ],
   "source": [
    "book1.return_book() "
   ]
  },
  {
   "cell_type": "code",
   "execution_count": 18,
   "id": "12ea7c8a-8a75-4eef-ab05-9c1862d7ab46",
   "metadata": {},
   "outputs": [
    {
     "name": "stdout",
     "output_type": "stream",
     "text": [
      "Title: Automate the Boring Stuff with Python Programming\n",
      "Author(s): Al Sweigart\n",
      "ISBN: 978-1593275990\n",
      "Publication Year: 2015\n",
      "Available Copies: 10\n"
     ]
    }
   ],
   "source": [
    "book1.display_book_info()"
   ]
  },
  {
   "cell_type": "markdown",
   "id": "388120c6-4543-452c-a8b1-c900e082eaf9",
   "metadata": {},
   "source": [
    "##8. For a ticket booking system, you have to design the \"Ticket\" class with OOP\n",
    "principles in mind. The “Ticket” class should have the following attributes:\n",
    "a. ticket_id: Represents the unique identifier for the ticket.\n",
    "b. event_name: Represents the name of the event.\n",
    "c. event_date: Represents the date of the event.\n",
    "d. venue: Represents the venue of the event.\n",
    "e. seat_number: Represents the seat number associated with the ticket.\n",
    "f. price: Represents the price of the ticket.\n",
    "g. is_reserved: Represents the reservation status of the ticket.\n",
    "The class also includes the following methods:\n",
    "a. reserve_ticket(self): Marks the ticket as reserved if it is not already reserved.\n",
    "b. cancel_reservation(self): Cancels the reservation of the ticket if it is already\n",
    "reserved.\n",
    "c. display_ticket_info(self): Displays the information about the ticket, including its\n",
    "attributes and reservation status."
   ]
  },
  {
   "cell_type": "code",
   "execution_count": 20,
   "id": "73b56e25-f747-42d8-992b-d405a32c305d",
   "metadata": {},
   "outputs": [],
   "source": [
    "class Ticket:\n",
    "    def __init__(self, ticket_id, event_name, event_date, venue, seat_number, price):\n",
    "        self.ticket_id = ticket_id\n",
    "        self.event_name = event_name\n",
    "        self.event_date = event_date\n",
    "        self.venue = venue\n",
    "        self.seat_number = seat_number\n",
    "        self.price = price\n",
    "        self.is_reserved = False\n",
    "\n",
    "    def reserve_ticket(self):\n",
    "        if not self.is_reserved:\n",
    "            self.is_reserved = True\n",
    "            print(\"Ticket reserved successfully.\")\n",
    "        else:\n",
    "            print(\"Ticket is already reserved.\")\n",
    "\n",
    "    def cancel_reservation(self):\n",
    "        if self.is_reserved:\n",
    "            self.is_reserved = False\n",
    "            print(\"Reservation canceled successfully.\")\n",
    "        else:\n",
    "            print(\"Ticket is not reserved.\")\n",
    "\n",
    "    def display_ticket_info(self):\n",
    "        print(\"Ticket ID:\", self.ticket_id)\n",
    "        print(\"Event Name:\", self.event_name)\n",
    "        print(\"Event Date:\", self.event_date)\n",
    "        print(\"Venue:\", self.venue)\n",
    "        print(\"Seat Number:\", self.seat_number)\n",
    "        print(\"Price:\", self.price)\n",
    "        print(\"Reservation Status:\", \"Reserved\" if self.is_reserved else \"Not Reserved\")"
   ]
  },
  {
   "cell_type": "code",
   "execution_count": 23,
   "id": "ed1fb913-9ed5-46c7-b8d8-00b23f179603",
   "metadata": {},
   "outputs": [],
   "source": [
    "ticket1 = Ticket(\"ARCE123\", \"Manmohan\", \"2023-07-10\", \"new city\", \"B45\", 2500)\n"
   ]
  },
  {
   "cell_type": "code",
   "execution_count": 24,
   "id": "e83e3190-6f1e-43fb-830e-6a2a70081dc3",
   "metadata": {},
   "outputs": [
    {
     "name": "stdout",
     "output_type": "stream",
     "text": [
      "Ticket ID: ARCE123\n",
      "Event Name: Manmohan\n",
      "Event Date: 2023-07-10\n",
      "Venue: new city\n",
      "Seat Number: B45\n",
      "Price: 2500\n",
      "Reservation Status: Not Reserved\n"
     ]
    }
   ],
   "source": [
    "ticket1.display_ticket_info()"
   ]
  },
  {
   "cell_type": "code",
   "execution_count": 25,
   "id": "a5f56a3a-7adb-4aa3-8909-b52dff5a9a14",
   "metadata": {},
   "outputs": [
    {
     "name": "stdout",
     "output_type": "stream",
     "text": [
      "Ticket reserved successfully.\n"
     ]
    }
   ],
   "source": [
    "ticket1.reserve_ticket()"
   ]
  },
  {
   "cell_type": "code",
   "execution_count": 26,
   "id": "de351b68-9708-4621-806d-2dd612d3c0f1",
   "metadata": {},
   "outputs": [
    {
     "name": "stdout",
     "output_type": "stream",
     "text": [
      "Reservation canceled successfully.\n"
     ]
    }
   ],
   "source": [
    "ticket1.cancel_reservation()"
   ]
  },
  {
   "cell_type": "code",
   "execution_count": 27,
   "id": "5dc3ef4c-2f63-43c0-bc70-1ddb3075f2b7",
   "metadata": {},
   "outputs": [
    {
     "name": "stdout",
     "output_type": "stream",
     "text": [
      "Ticket ID: ARCE123\n",
      "Event Name: Manmohan\n",
      "Event Date: 2023-07-10\n",
      "Venue: new city\n",
      "Seat Number: B45\n",
      "Price: 2500\n",
      "Reservation Status: Not Reserved\n"
     ]
    }
   ],
   "source": [
    "ticket1.display_ticket_info()"
   ]
  },
  {
   "cell_type": "code",
   "execution_count": null,
   "id": "97dfc03c-9f20-4d6e-9674-92ddb8054edf",
   "metadata": {},
   "outputs": [],
   "source": []
  },
  {
   "cell_type": "markdown",
   "id": "c5fc46a2-0183-403c-a1bc-3a84944bd45d",
   "metadata": {},
   "source": [
    "##9. You are creating a shopping cart for an e-commerce website. Using OOP to model the \"ShoppingCart\" functionality the class should contain following attributes and methods:\n",
    "a. items: Represents the list of items in the shopping cart.\n",
    "The class also includes the following methods:\n",
    "a. add_item(self, item): Adds an item to the shopping cart by appending it to the list of items.\n",
    "b. remove_item(self, item): Removes an item from the shopping cart if it exists in the list.\n",
    "c. view_cart(self): Displays the items currently present in the shopping cart.\n",
    "d. clear_cart(self): Clears all items from the shopping cart by reassigning an empty list to the items attribute."
   ]
  },
  {
   "cell_type": "code",
   "execution_count": 28,
   "id": "30a64dff-2c57-4d4a-86ed-15575991d3e6",
   "metadata": {},
   "outputs": [],
   "source": [
    "class ShoppingCart:\n",
    "    def __init__(self):\n",
    "        self.items = []\n",
    "\n",
    "    def add_item(self, item):\n",
    "        self.items.append(item)\n",
    "        print(\"Item added to the shopping cart.\")\n",
    "\n",
    "    def remove_item(self, item):\n",
    "        if item in self.items:\n",
    "            self.items.remove(item)\n",
    "            print(\"Item removed from the shopping cart.\")\n",
    "        else:\n",
    "            print(\"Item not found in the shopping cart.\")\n",
    "\n",
    "    def view_cart(self):\n",
    "        if self.items:\n",
    "            print(\"Items in the shopping cart:\")\n",
    "            for item in self.items:\n",
    "                print(\"- \", item)\n",
    "        else:\n",
    "            print(\"The shopping cart is empty.\")\n",
    "\n",
    "    def clear_cart(self):\n",
    "        self.items = []\n",
    "        print(\"Shopping cart cleared.\")"
   ]
  },
  {
   "cell_type": "code",
   "execution_count": 29,
   "id": "c2efb11a-107c-4274-abb4-d2af3f41a6d8",
   "metadata": {},
   "outputs": [],
   "source": [
    "cart = ShoppingCart()"
   ]
  },
  {
   "cell_type": "code",
   "execution_count": 30,
   "id": "a9453290-59ef-4a26-9159-d223c7541716",
   "metadata": {},
   "outputs": [
    {
     "name": "stdout",
     "output_type": "stream",
     "text": [
      "Item added to the shopping cart.\n"
     ]
    }
   ],
   "source": [
    "cart.add_item(\"Item 1\")"
   ]
  },
  {
   "cell_type": "code",
   "execution_count": 31,
   "id": "0620568f-332e-41c3-81cf-e5646096eec0",
   "metadata": {},
   "outputs": [
    {
     "name": "stdout",
     "output_type": "stream",
     "text": [
      "Item added to the shopping cart.\n"
     ]
    }
   ],
   "source": [
    "cart.add_item(\"Item 2\")"
   ]
  },
  {
   "cell_type": "code",
   "execution_count": 32,
   "id": "29e6c196-c224-4d7a-8b94-de8739ef24d8",
   "metadata": {},
   "outputs": [
    {
     "name": "stdout",
     "output_type": "stream",
     "text": [
      "Items in the shopping cart:\n",
      "-  Item 1\n",
      "-  Item 2\n"
     ]
    }
   ],
   "source": [
    "cart.view_cart()"
   ]
  },
  {
   "cell_type": "code",
   "execution_count": 33,
   "id": "e71b637e-dfd1-462c-a831-0588119ea2d0",
   "metadata": {},
   "outputs": [
    {
     "name": "stdout",
     "output_type": "stream",
     "text": [
      "Item removed from the shopping cart.\n"
     ]
    }
   ],
   "source": [
    "cart.remove_item(\"Item 1\")"
   ]
  },
  {
   "cell_type": "code",
   "execution_count": 34,
   "id": "092bf90b-aa1f-4aaa-95f2-e61441547df9",
   "metadata": {},
   "outputs": [
    {
     "name": "stdout",
     "output_type": "stream",
     "text": [
      "Items in the shopping cart:\n",
      "-  Item 2\n"
     ]
    }
   ],
   "source": [
    "cart.view_cart() "
   ]
  },
  {
   "cell_type": "code",
   "execution_count": 35,
   "id": "3dee9e7d-0796-4bf2-91ac-4253bb463d4f",
   "metadata": {},
   "outputs": [
    {
     "name": "stdout",
     "output_type": "stream",
     "text": [
      "Shopping cart cleared.\n"
     ]
    }
   ],
   "source": [
    "cart.clear_cart()"
   ]
  },
  {
   "cell_type": "code",
   "execution_count": 36,
   "id": "dafa05d6-61b1-4dd5-a8f5-69eb4ad70e67",
   "metadata": {},
   "outputs": [
    {
     "name": "stdout",
     "output_type": "stream",
     "text": [
      "The shopping cart is empty.\n"
     ]
    }
   ],
   "source": [
    "cart.view_cart()"
   ]
  },
  {
   "cell_type": "code",
   "execution_count": null,
   "id": "4205c058-4fd4-4de6-a52b-4224698a4951",
   "metadata": {},
   "outputs": [],
   "source": []
  },
  {
   "cell_type": "markdown",
   "id": "faa40900-f508-496d-b4b1-7cfd00f30c06",
   "metadata": {},
   "source": [
    "##10. Imagine a school management system. You have to design the \"Student\" class using OOP concepts.The “Student” class has the following attributes:\n",
    "a. name: Represents the name of the student.\n",
    "b. age: Represents the age of the student.\n",
    "c. grade: Represents the grade or class of the student.\n",
    "d. student_id: Represents the unique identifier for the student.\n",
    "e. attendance: Represents the attendance record of the student.\n",
    "The class should also include the following methods:\n",
    "a. update_attendance(self, date, status): Updates the attendance record of the\n",
    "student for a given date with the provided status (e.g., present or absent).\n",
    "b. get_attendance(self): Returns the attendance record of the student.\n",
    "c. get_average_attendance(self): Calculates and returns the average\n",
    "attendance percentage of the student based on their attendance record."
   ]
  },
  {
   "cell_type": "code",
   "execution_count": 37,
   "id": "e0216413-de11-4003-bf00-d05458677d68",
   "metadata": {},
   "outputs": [],
   "source": [
    "class Student:\n",
    "    def __init__(self, name, age, grade, student_id):\n",
    "        self.name = name\n",
    "        self.age = age\n",
    "        self.grade = grade\n",
    "        self.student_id = student_id\n",
    "        self.attendance = {}\n",
    "\n",
    "    def update_attendance(self, date, status):\n",
    "        self.attendance[date] = status\n",
    "        print(\"Attendance updated successfully.\")\n",
    "\n",
    "    def get_attendance(self):\n",
    "        return self.attendance\n",
    "\n",
    "    def get_average_attendance(self):\n",
    "        total_days = len(self.attendance)\n",
    "        present_days = sum(1 for status in self.attendance.values() if status == \"present\")\n",
    "        if total_days > 0:\n",
    "            attendance_percentage = (present_days / total_days) * 100\n",
    "            return attendance_percentage\n",
    "        else:\n",
    "            return 0"
   ]
  },
  {
   "cell_type": "code",
   "execution_count": 38,
   "id": "8c35b696-8db2-4337-85bb-ae7f6a6dc95c",
   "metadata": {},
   "outputs": [],
   "source": [
    "student1 = Student(\"MANMOHAN\", 45, \"Grade 10\", \"16855\")"
   ]
  },
  {
   "cell_type": "code",
   "execution_count": 39,
   "id": "46dcfafd-52d8-4ef6-bc83-723574ac9e30",
   "metadata": {},
   "outputs": [
    {
     "name": "stdout",
     "output_type": "stream",
     "text": [
      "Attendance updated successfully.\n",
      "Attendance updated successfully.\n",
      "Attendance updated successfully.\n",
      "Attendance updated successfully.\n",
      "Attendance updated successfully.\n"
     ]
    }
   ],
   "source": [
    "student1.update_attendance(\"01-07-2023\", \"present\")\n",
    "student1.update_attendance(\"02-07-2023\", \"absent\")\n",
    "student1.update_attendance(\"03-07-2023\", \"present\")\n",
    "student1.update_attendance(\"04-07-2023\", \"present\")\n",
    "student1.update_attendance(\"05-07-2023\", \"present\")\n",
    "attendance_record = student1.get_attendance()"
   ]
  },
  {
   "cell_type": "code",
   "execution_count": 40,
   "id": "6a94fc5b-45d8-4943-a2d7-de01eb174ec9",
   "metadata": {},
   "outputs": [
    {
     "name": "stdout",
     "output_type": "stream",
     "text": [
      "{'01-07-2023': 'present', '02-07-2023': 'absent', '03-07-2023': 'present', '04-07-2023': 'present', '05-07-2023': 'present'}\n"
     ]
    }
   ],
   "source": [
    "print(attendance_record)"
   ]
  },
  {
   "cell_type": "code",
   "execution_count": 42,
   "id": "6d144a54-12c9-4fe1-9384-3180570406b9",
   "metadata": {},
   "outputs": [
    {
     "name": "stdout",
     "output_type": "stream",
     "text": [
      "80.0\n"
     ]
    }
   ],
   "source": [
    "print(average_attendance)"
   ]
  }
 ],
 "metadata": {
  "kernelspec": {
   "display_name": "Python 3 (ipykernel)",
   "language": "python",
   "name": "python3"
  },
  "language_info": {
   "codemirror_mode": {
    "name": "ipython",
    "version": 3
   },
   "file_extension": ".py",
   "mimetype": "text/x-python",
   "name": "python",
   "nbconvert_exporter": "python",
   "pygments_lexer": "ipython3",
   "version": "3.10.6"
  },
  "toc-showcode": false,
  "toc-showtags": true
 },
 "nbformat": 4,
 "nbformat_minor": 5
}
