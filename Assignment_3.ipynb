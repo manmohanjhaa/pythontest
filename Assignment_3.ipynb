{
 "cells": [
  {
   "cell_type": "markdown",
   "id": "a73648f0-092b-49f8-8891-251da243b508",
   "metadata": {},
   "source": [
    "##1. Why are functions advantageous to have in your programs?\n",
    "ANS- Functions are advantageous in programs because they promote code organization, reusability, modularity, abstraction, readability, and maintenance. They allow you to break down code into smaller, logical units, making it easier to understand and modify. Functions also enable code reuse, testing, and debugging, leading to more efficient and effective programming."
   ]
  },
  {
   "cell_type": "markdown",
   "id": "4a98046e-8fe8-43e1-8c2f-b9ce605f6518",
   "metadata": {},
   "source": [
    "##2. When does the code in a function run: when it's specified or when it's called?\n",
    "ANS- In Python, the code in a function runs when it is called. When you define a function in Python, you are essentially creating a named block of code that will be executed only when the function is called or invoked. The function definition specifies the instructions to be executed, but those instructions are not executed until the function is actually called."
   ]
  },
  {
   "cell_type": "markdown",
   "id": "910e7a20-8bbb-4941-bbb2-7d7bd232728a",
   "metadata": {},
   "source": [
    "##3. What statement creates a function?\n",
    "ANS- In Python, the def statement is used to create a function. The def statement is followed by the name of the function, parentheses (), and a colon"
   ]
  },
  {
   "cell_type": "markdown",
   "id": "e66fc412-2fc9-4f69-9982-457a371a2ccc",
   "metadata": {},
   "source": [
    "##4. What is the difference between a function and a function call?\n",
    "ANS - In Python, a function is a named block of code that performs a specific task or set of operations. It is defined using the def statement and can take input parameters (arguments) and optionally return a value. function call is the actual invocation or execution of a function in order to execute its code and perform the desired operations. It involves using the function name followed by parentheses ()"
   ]
  },
  {
   "cell_type": "markdown",
   "id": "99be6817-5208-4043-a7d5-f6979767f40f",
   "metadata": {},
   "source": [
    "##5. How many global scopes are there in a Python program? How many local scopes?\n",
    "ANS- In a Python program, there is typically one global scope and multiple local scopes.\n",
    "Global scope\n",
    "The global scope refers to the top-level scope of a program or module. Variables defined in the global scope are accessible throughout the entire program or module. Any variable or function defined outside of any function or class belongs to the global scope.\n",
    "\n",
    "Local scopes\n",
    "local scopes are created whenever a function or a code block is executed. Each function has its own local scope, which is separate from the global scope. Variables defined within a function are only accessible within that function's scope and are considered local variables."
   ]
  },
  {
   "cell_type": "markdown",
   "id": "53997bf1-54bc-4542-b429-79e82d98158e",
   "metadata": {},
   "source": [
    "##6. What happens to variables in a local scope when the function call returns?\n",
    "ANS- When a function call returns in Python, the local variables in the function's scope are destroyed, and their values are no longer accessible. The memory allocated to these local variables is released. This means that any variables defined within the function's scope, including function parameters and locally declared variables, cease to exist outside of the function. They are deallocated, and any attempt to access them after the function call has returned will result in a NameError because the variables are no longer in scope."
   ]
  },
  {
   "cell_type": "markdown",
   "id": "afdc363b-7b19-438a-b152-af5180e93e77",
   "metadata": {},
   "source": [
    "##7. What is the concept of a return value? Is it possible to have a return value in an expression?\n",
    "ANS- The concept of a return value in programming, including in Python, refers to the value that a function can send back to the caller after it has finished executing. When a function encounters a return statement, it immediately exits, and the value specified in the return statement is passed back as the result of the function call. The return value allows a function to provide a result or output that can be used by the calling code. It enables functions to perform calculations, process data, or perform any other task and then return the computed result to the caller."
   ]
  },
  {
   "cell_type": "markdown",
   "id": "ed4a42fb-7265-4723-a180-0f28585b61f9",
   "metadata": {},
   "source": [
    "##8. If a function does not have a return statement, what is the return value of a call to that function?\n",
    "ANS- If a function does not have a return statement, or if the return statement does not specify a value, the function call will implicitly return None in Python. None is a special built-in constant in Python that represents the absence of a value. It is often used to indicate that a function does not return any meaningful result or when a variable or object has no assigned value."
   ]
  },
  {
   "cell_type": "markdown",
   "id": "9967a9f6-5366-45d3-a4c0-7dcb854a67d5",
   "metadata": {},
   "source": [
    "##9. How do you make a function variable refer to the global variable?\n",
    "ANS- In Python, if you want to make a function variable refer to a global variable, you can use the global keyword. By using the global keyword, you indicate that the variable inside the function should refer to the global variable with the same name."
   ]
  },
  {
   "cell_type": "markdown",
   "id": "d4fc166b-a7cb-4a24-aef3-8eee31bd6393",
   "metadata": {},
   "source": [
    "##10. What is the data type of None?\n",
    "ANS- \n",
    "In Python, the data type of None is a special type called NoneType. NoneType is a built-in type that represents the absence of a value or a null value. It is a singleton object of its own type.\n",
    "we can check the type of None using the type() function:\n",
    "print(type(None))"
   ]
  },
  {
   "cell_type": "markdown",
   "id": "29f01155-5aa8-4b15-b545-ee312ce87af4",
   "metadata": {},
   "source": [
    "##11. What does the sentence import areallyourpetsnamederic do?\n",
    "ANS- The statement import areallyourpetsnamederic in Python does not have any specific meaning in the Python language itself. It is not a built-in module or library that comes with Python."
   ]
  },
  {
   "cell_type": "markdown",
   "id": "a03e9849-ed1d-4e58-91bf-32cc5cb699da",
   "metadata": {},
   "source": [
    "##12. If you had a bacon() feature in a spam module, what would you call it after importing spam?\n",
    "ANS- import spam\n",
    "     spam.bacon()\n",
    "Spam is the name of the module that was imported. By using dot notation (spam.bacon()), you can access the bacon() feature within the spam module and invoke it as a function."
   ]
  },
  {
   "cell_type": "markdown",
   "id": "122f2eb4-73c9-4400-87ff-a5d4eec3e9bc",
   "metadata": {},
   "source": [
    "##13. What can you do to save a programme from crashing if it encounters an error?\n",
    "ANS- To prevent a program from crashing when encountering an error, you can implement error handling techniques. The main approach is to enclose the code that might raise an exception in a try-except block. This allows you to catch and handle exceptions gracefully, preventing the program from abruptly terminating.\n",
    "Use a try-except block to enclose the code that might raise an exception.\n",
    "Place the code that might raise an exception inside the try block.\n",
    "Catch specific exceptions or use a generic except block to handle any type of exception.\n",
    "Implement appropriate error handling logic within the except block to handle exceptions gracefully, such as displaying an error message or taking alternative actions.\n",
    "Consider using multiple except blocks to handle different types of exceptions differently.\n",
    "Optionally, include a finally block to specify cleanup code that should be executed regardless of whether an exception occurred."
   ]
  },
  {
   "cell_type": "markdown",
   "id": "30804224-c360-4676-a458-f86ee085bca0",
   "metadata": {},
   "source": [
    "##14. What is the purpose of the try clause? What is the purpose of the except clause?"
   ]
  },
  {
   "cell_type": "markdown",
   "id": "729309d8-5591-42a0-8516-e9ef79dc19e1",
   "metadata": {},
   "source": [
    "##ANS- \n",
    "Try clause\n",
    "The purpose of the try clause is to enclose the code that might raise an exception. It defines a block of code where you anticipate the occurrence of an exception. The code inside the try block is executed, and if an exception occurs within that block, the execution is immediately transferred to the corresponding except block.\n",
    "\n",
    "except clause \n",
    "The purpose of the except clause is to specify the actions to be taken when a specific exception occurs within the try block. It defines a block of code that is executed if an exception of the specified type is raised. You can have multiple except clauses to handle different types of exceptions separately, allowing you to customize the error handling for each specific exception type.\n"
   ]
  },
  {
   "cell_type": "code",
   "execution_count": 1,
   "id": "2eecadcf-ec7d-4d2f-bceb-aad3a4e9ad06",
   "metadata": {},
   "outputs": [
    {
     "name": "stdout",
     "output_type": "stream",
     "text": [
      "Error: Division by zero!\n"
     ]
    }
   ],
   "source": [
    "try:\n",
    "   \n",
    "    result = 10 / 0\n",
    "except ZeroDivisionError:\n",
    "    \n",
    "    print(\"Error: Division by zero!\")"
   ]
  },
  {
   "cell_type": "code",
   "execution_count": null,
   "id": "9dfb32d3-d353-4f73-a124-96b51cb886f4",
   "metadata": {},
   "outputs": [],
   "source": []
  }
 ],
 "metadata": {
  "kernelspec": {
   "display_name": "Python 3 (ipykernel)",
   "language": "python",
   "name": "python3"
  },
  "language_info": {
   "codemirror_mode": {
    "name": "ipython",
    "version": 3
   },
   "file_extension": ".py",
   "mimetype": "text/x-python",
   "name": "python",
   "nbconvert_exporter": "python",
   "pygments_lexer": "ipython3",
   "version": "3.10.6"
  }
 },
 "nbformat": 4,
 "nbformat_minor": 5
}
