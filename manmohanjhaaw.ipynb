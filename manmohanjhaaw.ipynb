{
 "cells": [
  {
   "cell_type": "markdown",
   "id": "4405c1d0-34b3-48f8-9f1f-45d8fdb0f784",
   "metadata": {},
   "source": [
    "##1. Explain what inheritance is in object-oriented programming and why it is used.\n",
    "ANS - Inheritance in object-oriented programming is when a class inherits properties and behaviors from another class. It allows for code reuse, promotes hierarchy, and helps create specialized classes. It simplifies development, enhances maintainability, and supports polymorphism."
   ]
  },
  {
   "cell_type": "markdown",
   "id": "83ab7531-a4fd-4717-b51e-e6381d5ae855",
   "metadata": {},
   "source": [
    "##2. Discuss the concept of single inheritance and multiple inheritance, highlighting their differences and advantages.\n",
    "ANS - Single inheritance is when a subclass inherits from a single superclass, while multiple inheritance is when a subclass inherits from multiple superclasses.\n",
    "Advantages of single inheritance:\n",
    "Simplicity: Single inheritance offers a straightforward hierarchy with each class having a single superclass.\n",
    "Clear relationship: The hierarchy is easy to understand and organize.\n",
    "\n",
    "Advantages of multiple inheritance:\n",
    "Code reuse: Multiple inheritance allows for more extensive code reuse as a subclass can inherit from multiple superclasses.\n",
    "Richer class composition: It enables the combination and integration of features from different sources, resulting in more diverse and flexible class compositions.\n",
    "Expressive power: Multiple inheritance provides greater expressive power, allowing for complex relationships and combinations of classes.\n",
    "\n",
    "Differences:\n",
    "\n",
    "Inheritance hierarchy: Single inheritance forms a linear hierarchy, while multiple inheritance creates a more complex hierarchy with a directed acyclic graph structure.\n",
    "Ambiguity: Multiple inheritance can lead to conflicts if different superclasses define the same attribute or method, known as the \"diamond problem.\" Single inheritance avoids this issue.\n",
    "Language support: Single inheritance is supported by most programming languages, while multiple inheritance is not universally supported."
   ]
  },
  {
   "cell_type": "markdown",
   "id": "0645d4c8-9a1b-4eea-9f56-3a71ccaaadd8",
   "metadata": {},
   "source": [
    "##3. Explain the terms \"base class\" and \"derived class\" in the context of inheritance.\n",
    "ANS - In the context of inheritance, a base class refers to the superclass or parent class from which other classes inherit. It is the class that provides the initial set of attributes and behaviors that can be inherited by other classes.\n",
    "A derived class, on the other hand, refers to the subclass or child class that inherits properties and behaviors from the base class. It is the class that extends or specializes the base class by adding its own unique attributes and behaviors."
   ]
  },
  {
   "cell_type": "markdown",
   "id": "67c97d68-8bb7-4589-b9de-479a9948bbd6",
   "metadata": {},
   "source": [
    "##4. What is the significance of the \"protected\" access modifier in inheritance? How does it differ from \"private\" and \"public\" modifiers?\n",
    "ANS - The \"protected\" access modifier in inheritance allows access to members within the same class and its subclasses. It differs from \"private\" which restricts access to only the same class, and \"public\" which allows unrestricted access from anywhere. \"protected\" provides a balance between encapsulation and code reuse, allowing subclasses to access and modify inherited members while restricting direct access from outside the class hierarchy."
   ]
  },
  {
   "cell_type": "markdown",
   "id": "f8e3526b-62b6-4f15-bfb0-833f348a6864",
   "metadata": {},
   "source": [
    "##5. What is the purpose of the \"super\" keyword in inheritance? Provide an example.\n",
    "ANS- The \"super\" keyword in inheritance is used to refer to the superclass or parent class from within a subclass. It provides a way to access and call the superclass's methods, constructors, and attributes. The \"super\" keyword is particularly useful when there is a need to override a method or constructor in the subclass while still retaining the functionality of the superclass."
   ]
  },
  {
   "cell_type": "markdown",
   "id": "e074b885-9f9f-45f3-96f4-b81439405d90",
   "metadata": {},
   "source": [
    "##example"
   ]
  },
  {
   "cell_type": "code",
   "execution_count": 9,
   "id": "5754e6ba-b634-4255-b5d7-66bdd7c8a230",
   "metadata": {},
   "outputs": [
    {
     "name": "stdout",
     "output_type": "stream",
     "text": [
      "Species: Canine\n",
      "Breed: Labrador\n",
      "The animal makes a sound.\n",
      "The dog barks.\n"
     ]
    }
   ],
   "source": [
    "class Animal:\n",
    "    def __init__(self, species):\n",
    "        self.species = species\n",
    "\n",
    "    def make_sound(self):\n",
    "        print(\"The animal makes a sound.\")\n",
    "\n",
    "class Dog(Animal):\n",
    "    def __init__(self, species, breed):\n",
    "        super().__init__(species) \n",
    "        self.breed = breed\n",
    "\n",
    "    def make_sound(self):\n",
    "        super().make_sound() \n",
    "        print(\"The dog barks.\")\n",
    "\n",
    "    def display_info(self):\n",
    "        print(\"Species:\", self.species)\n",
    "        print(\"Breed:\", self.breed)\n",
    "\n",
    "dog = Dog(\"Canine\", \"Labrador\")\n",
    "dog.display_info()\n",
    "dog.make_sound()"
   ]
  },
  {
   "cell_type": "markdown",
   "id": "c8c0bd58-6f45-4bf5-b14b-f8f71cbf5104",
   "metadata": {},
   "source": [
    "##Animal class as the superclass and a Dog class as the subclass. The Animal class has an __init__ method to initialize the species attribute and a make_sound method. The Dog class inherits from Animal and adds a breed attribute.\n",
    "Dog class overrides the make_sound method inherited from Animal to include specific behavior for a dog. The display_info method is defined in the Dog class to display information about the species and breed."
   ]
  },
  {
   "cell_type": "markdown",
   "id": "bef668ad-6b78-4f6e-a002-e677e7f1cd36",
   "metadata": {},
   "source": [
    "##6. Create a base class called \"Vehicle\" with attributes like \"make\", \"model\", and \"year\".Then, create a derived class called \"Car\" that inherits from \"Vehicle\" and adds an attribute called \"fuel_type\". Implement appropriate methods in both classes."
   ]
  },
  {
   "cell_type": "code",
   "execution_count": 11,
   "id": "558183c7-16f0-49ff-bd9b-5a9cae9ff455",
   "metadata": {},
   "outputs": [],
   "source": [
    "class Vehicle:\n",
    "    def __init__(self, make, model, year):\n",
    "        self.make = make\n",
    "        self.model = model\n",
    "        self.year = year\n",
    "\n",
    "    def display_info(self):\n",
    "        print(f\"Make: {self.make}\")\n",
    "        print(f\"Model: {self.model}\")\n",
    "        print(f\"Year: {self.year}\")\n",
    "\n",
    "\n",
    "class Car(Vehicle):\n",
    "    def __init__(self, make, model, year, fuel_type):\n",
    "        super().__init__(make, model, year)  \n",
    "        self.fuel_type = fuel_type\n",
    "\n",
    "    def display_info(self):\n",
    "        super().display_info() \n",
    "        print(f\"Fuel Type: {self.fuel_type}\")"
   ]
  },
  {
   "cell_type": "code",
   "execution_count": 13,
   "id": "77cdc65b-4af5-47a7-a745-888fcab8cd16",
   "metadata": {},
   "outputs": [
    {
     "name": "stdout",
     "output_type": "stream",
     "text": [
      "Make: BMW\n",
      "Model: XM\n",
      "Year: 2023\n",
      "Fuel Type: Petrol\n"
     ]
    }
   ],
   "source": [
    "car = Car(\"BMW\", \"XM\", 2023, \"Petrol\")\n",
    "car.display_info()"
   ]
  },
  {
   "cell_type": "code",
   "execution_count": 14,
   "id": "95fa38da-32af-4ce4-a9d6-43df89374cc7",
   "metadata": {},
   "outputs": [
    {
     "name": "stdout",
     "output_type": "stream",
     "text": [
      "Make: Toyota\n",
      "Model: Corolla\n",
      "Year: 2023\n",
      "Fuel Type: Diesel\n"
     ]
    }
   ],
   "source": [
    "car = Car(\"Toyota\", \"Corolla\", 2023, \"Diesel\")\n",
    "car.display_info()"
   ]
  },
  {
   "cell_type": "markdown",
   "id": "f689f97c-2228-491d-8ec6-f81327c032af",
   "metadata": {},
   "source": [
    "##7. Create a base class called \"Employee\" with attributes like \"name\" and \"salary. \"Derive two classes, \"Manager\" and \"Developer,\" from \"Employee.\" Add an additional attribute called \"department\" for the \"Manager\" class and \"programming_language\" for the \"Developer\" class.\n",
    "ANS- "
   ]
  },
  {
   "cell_type": "code",
   "execution_count": 15,
   "id": "72becff8-7e01-4cc6-ae05-162cf3f53186",
   "metadata": {},
   "outputs": [],
   "source": [
    "class Employee:\n",
    "    def __init__(self, name, salary):\n",
    "        self.name = name\n",
    "        self.salary = salary\n",
    "\n",
    "    def display_info(self):\n",
    "        print(f\"Name: {self.name}\")\n",
    "        print(f\"Salary: {self.salary}\")\n",
    "\n",
    "\n",
    "class Manager(Employee):\n",
    "    def __init__(self, name, salary, department):\n",
    "        super().__init__(name, salary) \n",
    "        self.department = department\n",
    "\n",
    "    def display_info(self):\n",
    "        super().display_info() \n",
    "        print(f\"Department: {self.department}\")\n",
    "\n",
    "\n",
    "class Developer(Employee):\n",
    "    def __init__(self, name, salary, programming_language):\n",
    "        super().__init__(name, salary)  \n",
    "        self.programming_language = programming_language\n",
    "\n",
    "    def display_info(self):\n",
    "        super().display_info() \n",
    "        print(f\"Programming Language: {self.programming_language}\")"
   ]
  },
  {
   "cell_type": "code",
   "execution_count": 19,
   "id": "83fd472c-eea7-4965-b71b-fb58416bee57",
   "metadata": {},
   "outputs": [],
   "source": [
    "manager = Manager(\"rohit\", 50000, \"Sales\")\n",
    "developer = Developer(\"mohan\", 60000, \"Python\")\n"
   ]
  },
  {
   "cell_type": "code",
   "execution_count": 20,
   "id": "2b429ad9-3c6b-400e-af05-d6feef5b4894",
   "metadata": {},
   "outputs": [
    {
     "name": "stdout",
     "output_type": "stream",
     "text": [
      "Name: rohit\n",
      "Salary: 50000\n",
      "Department: Sales\n"
     ]
    }
   ],
   "source": [
    "manager.display_info()"
   ]
  },
  {
   "cell_type": "code",
   "execution_count": 22,
   "id": "ecc8a0d6-d64b-4ffd-8a94-f02764b44031",
   "metadata": {},
   "outputs": [
    {
     "name": "stdout",
     "output_type": "stream",
     "text": [
      "Name: mohan\n",
      "Salary: 60000\n",
      "Programming Language: Python\n"
     ]
    }
   ],
   "source": [
    "developer.display_info()"
   ]
  },
  {
   "cell_type": "markdown",
   "id": "a81ec3e4-ef60-40bf-949c-0b099f975d93",
   "metadata": {},
   "source": [
    "##8. Design a base class called \"Shape\" with attributes like \"colour\" and \"border_width.\" Create derived classes, \"Rectangle\" and \"Circle,\" that inherit from \"Shape\" and add specific attributes like \"length\" and \"width\" for the \"Rectangle\" class and \"radius\" for the \"Circle\" class."
   ]
  },
  {
   "cell_type": "code",
   "execution_count": 23,
   "id": "b1543b25-8955-404b-ac82-f6550dd243fc",
   "metadata": {},
   "outputs": [],
   "source": [
    "class Shape:\n",
    "    def __init__(self, colour, border_width):\n",
    "        self.colour = colour\n",
    "        self.border_width = border_width\n",
    "\n",
    "    def display_info(self):\n",
    "        print(f\"Colour: {self.colour}\")\n",
    "        print(f\"Border Width: {self.border_width}\")\n",
    "\n",
    "\n",
    "class Rectangle(Shape):\n",
    "    def __init__(self, colour, border_width, length, width):\n",
    "        super().__init__(colour, border_width)  \n",
    "        self.length = length\n",
    "        self.width = width\n",
    "\n",
    "    def display_info(self):\n",
    "        super().display_info()  \n",
    "        print(f\"Length: {self.length}\")\n",
    "        print(f\"Width: {self.width}\")\n",
    "\n",
    "\n",
    "class Circle(Shape):\n",
    "    def __init__(self, colour, border_width, radius):\n",
    "        super().__init__(colour, border_width)  \n",
    "        self.radius = radius\n",
    "\n",
    "    def display_info(self):\n",
    "        super().display_info()  \n",
    "        print(f\"Radius: {self.radius}\")\n",
    "\n",
    "\n"
   ]
  },
  {
   "cell_type": "code",
   "execution_count": 25,
   "id": "3eb02478-f19f-416a-b3d3-8d0d52e3ca6a",
   "metadata": {},
   "outputs": [],
   "source": [
    "rectangle = Rectangle(\"Blue\", 2, 10, 5)\n",
    "circle = Circle(\"Red\", 3, 7)"
   ]
  },
  {
   "cell_type": "code",
   "execution_count": 26,
   "id": "d00072e8-26c5-4db6-b77b-168506c030b5",
   "metadata": {},
   "outputs": [
    {
     "name": "stdout",
     "output_type": "stream",
     "text": [
      "Colour: Blue\n",
      "Border Width: 2\n",
      "Length: 10\n",
      "Width: 5\n"
     ]
    }
   ],
   "source": [
    "rectangle.display_info()"
   ]
  },
  {
   "cell_type": "code",
   "execution_count": 27,
   "id": "939e6b31-0f4b-440a-bb4b-03586e90cc7d",
   "metadata": {},
   "outputs": [
    {
     "name": "stdout",
     "output_type": "stream",
     "text": [
      "Colour: Red\n",
      "Border Width: 3\n",
      "Radius: 7\n"
     ]
    }
   ],
   "source": [
    "circle.display_info()"
   ]
  },
  {
   "cell_type": "markdown",
   "id": "a44c95ba-029a-4f5a-983c-d8d881dcf77b",
   "metadata": {},
   "source": [
    "##9. Create a base class called \"Device\" with attributes like \"brand\" and \"model.\" Derive two classes, \"Phone\" and \"Tablet,\" from \"Device.\" Add specific attributes like \"screen_size\" for the \"Phone\" class and \"battery_capacity\" for the \"Tablet\" class."
   ]
  },
  {
   "cell_type": "code",
   "execution_count": 28,
   "id": "7473f330-05f0-4835-a16c-f769d189dade",
   "metadata": {},
   "outputs": [],
   "source": [
    "class Device:\n",
    "    def __init__(self, brand, model):\n",
    "        self.brand = brand\n",
    "        self.model = model\n",
    "\n",
    "    def display_info(self):\n",
    "        print(f\"Brand: {self.brand}\")\n",
    "        print(f\"Model: {self.model}\")\n",
    "\n",
    "\n",
    "class Phone(Device):\n",
    "    def __init__(self, brand, model, screen_size):\n",
    "        super().__init__(brand, model) \n",
    "        self.screen_size = screen_size\n",
    "\n",
    "    def display_info(self):\n",
    "        super().display_info()  \n",
    "        print(f\"Screen Size: {self.screen_size}\")\n",
    "\n",
    "\n",
    "class Tablet(Device):\n",
    "    def __init__(self, brand, model, battery_capacity):\n",
    "        super().__init__(brand, model)  \n",
    "        self.battery_capacity = battery_capacity\n",
    "\n",
    "    def display_info(self):\n",
    "        super().display_info()  \n",
    "        print(f\"Battery Capacity: {self.battery_capacity}\")\n",
    "\n"
   ]
  },
  {
   "cell_type": "code",
   "execution_count": 29,
   "id": "bfe29060-2709-415d-9aef-8aa1119cd206",
   "metadata": {},
   "outputs": [],
   "source": [
    "phone = Phone(\"Apple\", \"iPhone 12\", 6.1)\n",
    "tablet = Tablet(\"Samsung\", \"Galaxy Tab S7\", \"8000 mAh\")\n"
   ]
  },
  {
   "cell_type": "code",
   "execution_count": 30,
   "id": "b7866589-196a-4417-9bd1-51e746d76b2c",
   "metadata": {},
   "outputs": [
    {
     "name": "stdout",
     "output_type": "stream",
     "text": [
      "Brand: Apple\n",
      "Model: iPhone 12\n",
      "Screen Size: 6.1\n",
      "\n",
      "Brand: Samsung\n",
      "Model: Galaxy Tab S7\n",
      "Battery Capacity: 8000 mAh\n"
     ]
    }
   ],
   "source": [
    "phone.display_info()\n",
    "print()\n",
    "tablet.display_info()"
   ]
  },
  {
   "cell_type": "markdown",
   "id": "298a6232-cd8a-4b2f-8c3e-a1ade9b2bfce",
   "metadata": {},
   "source": [
    "##10. Create a base class called \"BankAccount\" with attributes like \"account_number\" and \"balance.\" Derive two classes, \"SavingsAccount\" and \"CheckingAccount,\" from \"BankAccount.\" Add specific methods like \"calculate_interest\" for the \"SavingsAccount\" class and \"deduct_fees\" for the \"CheckingAccount\" class."
   ]
  },
  {
   "cell_type": "code",
   "execution_count": 32,
   "id": "d70b715d-1894-4a2a-939e-ee2689ee2b47",
   "metadata": {},
   "outputs": [],
   "source": [
    "class BankAccount:\n",
    "    def __init__(self, account_number, balance):\n",
    "        self.account_number = account_number\n",
    "        self.balance = balance\n",
    "\n",
    "    def display_info(self):\n",
    "        print(f\"Account Number: {self.account_number}\")\n",
    "        print(f\"Balance: ₹{self.balance:.2f}\")\n",
    "\n",
    "\n",
    "class SavingsAccount(BankAccount):\n",
    "    def __init__(self, account_number, balance):\n",
    "        super().__init__(account_number, balance)  \n",
    "\n",
    "    def calculate_interest(self, interest_rate):\n",
    "        interest = self.balance * (interest_rate / 100)\n",
    "        self.balance += interest\n",
    "\n",
    "\n",
    "class CheckingAccount(BankAccount):\n",
    "    def __init__(self, account_number, balance):\n",
    "        super().__init__(account_number, balance)  \n",
    "\n",
    "    def deduct_fees(self, fee_amount):\n",
    "        self.balance -= fee_amount\n",
    "\n",
    "\n",
    "\n"
   ]
  },
  {
   "cell_type": "code",
   "execution_count": 33,
   "id": "03cda1c2-791f-4d7f-a932-97af6a717ee9",
   "metadata": {},
   "outputs": [],
   "source": [
    "savings_account = SavingsAccount(\"SA001\", 5000)\n",
    "checking_account = CheckingAccount(\"CA001\", 3000)\n"
   ]
  },
  {
   "cell_type": "code",
   "execution_count": 34,
   "id": "af8f80fa-5467-43bb-8dac-27d61222988d",
   "metadata": {},
   "outputs": [
    {
     "name": "stdout",
     "output_type": "stream",
     "text": [
      "Initial Account Information:\n",
      "Account Number: SA001\n",
      "Balance: ₹5000.00\n",
      "\n",
      "Account Number: CA001\n",
      "Balance: ₹3000.00\n",
      "\n"
     ]
    }
   ],
   "source": [
    "print(\"Initial Account Information:\")\n",
    "savings_account.display_info()\n",
    "print()\n",
    "checking_account.display_info()\n",
    "print()"
   ]
  },
  {
   "cell_type": "code",
   "execution_count": 35,
   "id": "a84adecd-bd89-435c-bdc9-2c482939df6b",
   "metadata": {},
   "outputs": [],
   "source": [
    "savings_account.calculate_interest(5)\n",
    "checking_account.deduct_fees(20)\n"
   ]
  },
  {
   "cell_type": "code",
   "execution_count": 36,
   "id": "9191b184-8afd-43a2-9aa3-f019a3bf6593",
   "metadata": {},
   "outputs": [
    {
     "name": "stdout",
     "output_type": "stream",
     "text": [
      "Updated Account Information:\n",
      "Account Number: SA001\n",
      "Balance: ₹5250.00\n",
      "\n",
      "Account Number: CA001\n",
      "Balance: ₹2980.00\n"
     ]
    }
   ],
   "source": [
    "print(\"Updated Account Information:\")\n",
    "savings_account.display_info()\n",
    "print()\n",
    "checking_account.display_info()"
   ]
  },
  {
   "cell_type": "code",
   "execution_count": null,
   "id": "31ddbcfa-a529-4fdb-9185-4c3a981b6432",
   "metadata": {},
   "outputs": [],
   "source": []
  },
  {
   "cell_type": "code",
   "execution_count": null,
   "id": "912e1851-0a83-4ebb-a584-37772a628a25",
   "metadata": {},
   "outputs": [],
   "source": []
  },
  {
   "cell_type": "code",
   "execution_count": null,
   "id": "e7c12ffb-49a8-4d71-b941-d6e7ad36ea41",
   "metadata": {},
   "outputs": [],
   "source": []
  }
 ],
 "metadata": {
  "kernelspec": {
   "display_name": "Python 3 (ipykernel)",
   "language": "python",
   "name": "python3"
  },
  "language_info": {
   "codemirror_mode": {
    "name": "ipython",
    "version": 3
   },
   "file_extension": ".py",
   "mimetype": "text/x-python",
   "name": "python",
   "nbconvert_exporter": "python",
   "pygments_lexer": "ipython3",
   "version": "3.10.6"
  }
 },
 "nbformat": 4,
 "nbformat_minor": 5
}
